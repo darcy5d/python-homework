{
 "cells": [
  {
   "cell_type": "code",
   "execution_count": 100,
   "id": "fe0845bb-6240-4130-8fc2-25c71003780c",
   "metadata": {
    "tags": []
   },
   "outputs": [
    {
     "data": {
      "text/plain": [
       "PosixPath('/Users/darcy5d/Desktop/fintech_bootcamp/Homework_02_Ramen/python-homework/PyBank')"
      ]
     },
     "execution_count": 100,
     "metadata": {},
     "output_type": "execute_result"
    }
   ],
   "source": [
    "##### Job is to analyse the financial records of your company\n",
    "\n",
    "#### You have the dataset budget_data.csv; two columns 'Date' and 'Profit/Loss'\n",
    "\n",
    "### To-Do:\n",
    "\n",
    "## Import the CSV file\n",
    "# Import pathlib package, and import the csv\n",
    "from pathlib import Path\n",
    "import csv\n",
    "\n",
    "# Set the path (current dir -- copied csv across)\n",
    "csvpath = Path(\"budget_data.csv\")\n",
    "\n",
    "Path.cwd()\n"
   ]
  },
  {
   "cell_type": "code",
   "execution_count": 157,
   "id": "dc16b8cd-8389-4bf1-86a9-6db86f4e4c5a",
   "metadata": {
    "tags": []
   },
   "outputs": [
    {
     "name": "stdout",
     "output_type": "stream",
     "text": [
      "38382578\n",
      "86\n"
     ]
    }
   ],
   "source": [
    "# Initialise variables\n",
    "total_months = 0\n",
    "net_total = 0\n",
    "changes = []\n",
    "dates = []\n",
    "\n",
    "#Open the csv file\n",
    "with open(csvpath, \"r\") as csvfile:\n",
    "    csv_reader = csv.reader(csvfile, delimiter=\",\")\n",
    "    header = next(csv_reader) #This one skips the header row\n",
    "\n",
    "    ##Parse and loop thru the file\n",
    " \n",
    "    for row in csv_reader:\n",
    "\n",
    "        #Determine the total number of months\n",
    "        total_months += 1\n",
    "            \n",
    "        #Sum the net profit and loss over the entire period\n",
    "        net_total += int(row[1])\n",
    "        \n",
    "        # Store the monthly changes in profit/losses\n",
    "        changes.append(int(row[1]))\n",
    "\n",
    "        # Store the dates\n",
    "        dates.append(row[0])\n",
    "    \n",
    "    print(net_total)\n",
    "    print(total_months)\n",
    "\n",
    "    \n",
    "# Calculate the changes in profit/losses\n",
    "change_values = [changes[pnl+1] - changes[pnl] for pnl in range(len(changes) - 1)]\n",
    "\n",
    "# Calculate the average change\n",
    "average_change = sum(change_values) / len(change_values)\n",
    "\n",
    "# Find the greatest increase and decrease in profit/losses\n",
    "greatest_increase = max(change_values)\n",
    "greatest_increase_index = change_values.index(greatest_increase)\n",
    "greatest_increase_date = dates[greatest_increase_index + 1]\n",
    "\n",
    "greatest_decrease = min(change_values)\n",
    "greatest_decrease_index = change_values.index(greatest_decrease)\n",
    "greatest_decrease_date = dates[greatest_decrease_index + 1]\n",
    "\n",
    "\n"
   ]
  },
  {
   "cell_type": "code",
   "execution_count": 170,
   "id": "35765269-d7f1-498c-8e12-c7f5c93583fd",
   "metadata": {
    "tags": []
   },
   "outputs": [
    {
     "name": "stdout",
     "output_type": "stream",
     "text": [
      "\n",
      "Financial Analysis\n",
      "-----------------------------\n",
      "Total Months: 86\n",
      "Total: $38382578\n",
      "Average Change: $-2315.12\n",
      "Greatest Increase in Profits: Feb-2012 ($1926159)\n",
      "Greatest Decrease in Profits: Sep-2013 ($-2196167)\n",
      "\n",
      "The analysis results have been saved to PyBank_output.txt.\n"
     ]
    }
   ],
   "source": [
    "# Prepare the analysis results\n",
    "analysis_results = f'''\n",
    "Financial Analysis\n",
    "-----------------------------\n",
    "Total Months: {total_months}\n",
    "Total: ${net_total}\n",
    "Average Change: ${average_change:.2f}\n",
    "Greatest Increase in Profits: {greatest_increase_date} (${greatest_increase})\n",
    "Greatest Decrease in Profits: {greatest_decrease_date} (${greatest_decrease})\n",
    "'''\n",
    "\n",
    "# Print the analysis results to the terminal\n",
    "print(analysis_results)\n",
    "\n",
    "    \n",
    "# Set output file name\n",
    "output_path = 'PyBank_output.txt'\n",
    "\n",
    "# Open the output path as a file object\n",
    "with open(output_path, 'w') as file:\n",
    "    file.write(analysis_results)\n",
    "\n",
    "    print(f\"The analysis results have been saved to {output_path}.\")"
   ]
  },
  {
   "cell_type": "code",
   "execution_count": null,
   "id": "a2f555cb-c270-4f70-83ee-721d93afbe2d",
   "metadata": {},
   "outputs": [],
   "source": []
  }
 ],
 "metadata": {
  "kernelspec": {
   "display_name": "Python 3 (ipykernel)",
   "language": "python",
   "name": "python3"
  },
  "language_info": {
   "codemirror_mode": {
    "name": "ipython",
    "version": 3
   },
   "file_extension": ".py",
   "mimetype": "text/x-python",
   "name": "python",
   "nbconvert_exporter": "python",
   "pygments_lexer": "ipython3",
   "version": "3.10.12"
  }
 },
 "nbformat": 4,
 "nbformat_minor": 5
}
