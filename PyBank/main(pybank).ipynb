{
 "cells": [
  {
   "cell_type": "code",
   "execution_count": 100,
   "id": "fe0845bb-6240-4130-8fc2-25c71003780c",
   "metadata": {
    "tags": []
   },
   "outputs": [
    {
     "data": {
      "text/plain": [
       "PosixPath('/Users/darcy5d/Desktop/fintech_bootcamp/Homework_02_Ramen/python-homework/PyBank')"
      ]
     },
     "execution_count": 100,
     "metadata": {},
     "output_type": "execute_result"
    }
   ],
   "source": [
    "##### Job is to analyse the financial records of your company\n",
    "\n",
    "#### You have the dataset budget_data.csv; two columns 'Date' and 'Profit/Loss'\n",
    "\n",
    "### To-Do:\n",
    "\n",
    "## Import the CSV file\n",
    "# Import pathlib package, and import the csv\n",
    "from pathlib import Path\n",
    "import csv\n",
    "\n",
    "# Set the path (current dir -- copied csv across)\n",
    "csvpath = Path(\"budget_data.csv\")\n",
    "\n",
    "Path.cwd()\n"
   ]
  },
  {
   "cell_type": "code",
   "execution_count": 109,
   "id": "dc16b8cd-8389-4bf1-86a9-6db86f4e4c5a",
   "metadata": {
    "tags": []
   },
   "outputs": [],
   "source": [
    "# Initialise a dictionary\n",
    "analysis = {}\n",
    "\n",
    "#Open the csv file as an object\n",
    "with open(csvpath, \"r\") as csvfile:\n",
    "    csvreader = csv.reader(csvfile, delimiter=\",\")\n",
    "    \n",
    "    #read the header row\n",
    "    csv_header = next(csvreader)\n",
    "    #print(csv_header)\n",
    "    \n",
    "    #read each row of data after the header\n",
    "    #for row in csvreader:\n",
    "    #    print(row)\n",
    "        \n"
   ]
  },
  {
   "cell_type": "code",
   "execution_count": 123,
   "id": "cb5f48cb-e3f2-456c-941a-1c1259685c1e",
   "metadata": {
    "tags": []
   },
   "outputs": [
    {
     "name": "stdout",
     "output_type": "stream",
     "text": [
      "Number of lines present: 87\n",
      "<_csv.reader object at 0x1044ce260>\n"
     ]
    }
   ],
   "source": [
    "## Analyse the total amount of months included in the data set\n",
    "        \n",
    "#Setting initial value of the counter to zero\n",
    "rowcount  = 0\n",
    "#iterating through the whole file\n",
    "for row in open(\"budget_data.csv\"):\n",
    "    rowcount+= 1\n",
    " #printing the result\n",
    "print(\"Number of lines present:\", rowcount)\n",
    "print(csvreader)\n"
   ]
  },
  {
   "cell_type": "code",
   "execution_count": 130,
   "id": "6a914676-de30-44a1-a884-df492e853b13",
   "metadata": {
    "tags": []
   },
   "outputs": [
    {
     "ename": "ValueError",
     "evalue": "could not convert string to float: 'e'",
     "output_type": "error",
     "traceback": [
      "\u001b[0;31m---------------------------------------------------------------------------\u001b[0m",
      "\u001b[0;31mValueError\u001b[0m                                Traceback (most recent call last)",
      "Cell \u001b[0;32mIn[130], line 4\u001b[0m\n\u001b[1;32m      1\u001b[0m \u001b[38;5;66;03m## Calculate the net PnL over the entire period\u001b[39;00m\n\u001b[1;32m      3\u001b[0m date \u001b[38;5;241m=\u001b[39m row[\u001b[38;5;241m0\u001b[39m]\n\u001b[0;32m----> 4\u001b[0m pnl \u001b[38;5;241m=\u001b[39m \u001b[38;5;28mint\u001b[39m(\u001b[38;5;28;43mfloat\u001b[39;49m\u001b[43m(\u001b[49m\u001b[43mrow\u001b[49m\u001b[43m[\u001b[49m\u001b[38;5;241;43m1\u001b[39;49m\u001b[43m]\u001b[49m\u001b[43m)\u001b[49m)\n",
      "\u001b[0;31mValueError\u001b[0m: could not convert string to float: 'e'"
     ]
    }
   ],
   "source": [
    "## Calculate the net PnL over the entire period\n",
    "\n",
    "date = row[0]\n",
    "pnl = int(float(row[1]))\n",
    "    \n",
    "    # Sum the second column\n",
    "\n",
    "\n",
    "    # Set the 'name', 'count', and 'revenue' variables for better\n",
    "    # readability, convert strings to ints for numerical calculations\n",
    "\n",
    "\n",
    "# Calculate the sum of pnl\n",
    "\n"
   ]
  },
  {
   "cell_type": "code",
   "execution_count": null,
   "id": "7a3bed83-387c-4c10-80ea-6dd6d6abe5cd",
   "metadata": {},
   "outputs": [],
   "source": [
    "\n",
    "## Calculate the net PnL over the entire period\n",
    "\n",
    "## Identity the greatest increase in profits (date and amount) over the entire period\n",
    "\n",
    "## Identity the greatest decrease in losses (date and amount) over the entire period\n",
    "\n",
    "## Print the final analysis to the terminal and export a text with the results"
   ]
  }
 ],
 "metadata": {
  "kernelspec": {
   "display_name": "Python 3 (ipykernel)",
   "language": "python",
   "name": "python3"
  },
  "language_info": {
   "codemirror_mode": {
    "name": "ipython",
    "version": 3
   },
   "file_extension": ".py",
   "mimetype": "text/x-python",
   "name": "python",
   "nbconvert_exporter": "python",
   "pygments_lexer": "ipython3",
   "version": "3.10.12"
  }
 },
 "nbformat": 4,
 "nbformat_minor": 5
}
