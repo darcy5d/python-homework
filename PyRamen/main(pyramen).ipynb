{
 "cells": [
  {
   "cell_type": "code",
   "execution_count": 7,
   "id": "445a143c-d2c6-4590-b074-1b732b2b570e",
   "metadata": {},
   "outputs": [],
   "source": [
    "### ICHIBAN RAMEN ~~! 一番ラーメン"
   ]
  },
  {
   "cell_type": "code",
   "execution_count": null,
   "id": "16882f76-f02e-4925-be42-07f04a6a58da",
   "metadata": {},
   "outputs": [],
   "source": [
    "## Reading the data"
   ]
  },
  {
   "cell_type": "code",
   "execution_count": 6,
   "id": "1b670fe7-671f-4ff6-8ccd-45a8d9664d9b",
   "metadata": {
    "tags": []
   },
   "outputs": [],
   "source": [
    "import csv  # Import csv module to read and write csv files\n",
    "## Import the CSV file\n",
    "# Import pathlib package, and import the csv\n",
    "from pathlib import Path\n",
    "import csv\n",
    "\n",
    "# Set the path (current dir -- copied csv across)\n",
    "csvpath = Path(\"menu_data.csv\")\n",
    "Path.cwd()\n",
    "\n",
    "# Read in the menu data\n",
    "# Initialize an empty list object to hold the contents of csv file menu_data.csv\n",
    "menu = [] \n",
    "\n",
    "# Use a with statement and open the menu_data.csv by using its file path\n",
    "with open('menu_data.csv', 'r') as menu_data:\n",
    "    reader = csv.reader(menu_data)  \n",
    "    next(reader)  # skips header\n",
    "    \n",
    "    # Loop over the rest of the rows and append every row to the menu list object\n",
    "    menu = list(reader)\n",
    "    \n",
    "import csv\n",
    "\n",
    "# Set the path (current dir -- copied csv across)\n",
    "csvpath = Path(\"sales_data.csv\")\n",
    "Path.cwd()\n",
    "\n",
    "# Read in the menu data\n",
    "# Initialize an empty list object to hold the contents of csv file menu_data.csv\n",
    "sales = [] \n",
    "\n",
    "# Use a with statement and open the sales_data.csv by using its file path\n",
    "with open('sales_data.csv', 'r') as sales_data:\n",
    "    reader = csv.reader(sales_data) \n",
    "    next(reader)  # skips header\n",
    "    \n",
    "    # Loop over the rest of the rows and append every row to the sales list object (the outcome will be a list of lists)\n",
    "    sales = list(reader)  \n",
    "    \n"
   ]
  },
  {
   "cell_type": "code",
   "execution_count": null,
   "id": "5b1628ea-532b-443f-8f26-e45324537110",
   "metadata": {},
   "outputs": [],
   "source": [
    "## Manipulating the Data"
   ]
  },
  {
   "cell_type": "code",
   "execution_count": 12,
   "id": "fa004b4d-b11a-4881-97b0-0bcf3979aa62",
   "metadata": {
    "tags": []
   },
   "outputs": [],
   "source": [
    "# Initialize a report dictionary to hold the future aggregated per-product results\n",
    "report = {}\n",
    "\n",
    "# Loop through every row in the sales list object\n",
    "# --> This will \n",
    "for row in sales:\n",
    "    quantity = int(row[3])  # create an integer variable for Quantity \n",
    "    sales_item = row[4]  # create a variable for Menu_Item\n",
    "    \n",
    "# Perform a quick check if the sales_item is already included in the report\n",
    "## --> Can use 'not in' as an condition\n",
    "    if sales_item not in report:\n",
    "        # If not, initialize the key-value pairs for the particular sales_item in the report variable in our dictionary\n",
    "        report[sales_item] = {\n",
    "            \"01-count\": 0,\n",
    "            \"02-revenue\": 0,\n",
    "            \"03-cogs\": 0,\n",
    "            \"04-profit\": 0,\n",
    "        }\n",
    "        \n"
   ]
  },
  {
   "cell_type": "code",
   "execution_count": null,
   "id": "4e6fbc5e-a43e-4c60-b8c1-1a978aa4e3f7",
   "metadata": {},
   "outputs": [],
   "source": []
  }
 ],
 "metadata": {
  "kernelspec": {
   "display_name": "Python 3 (ipykernel)",
   "language": "python",
   "name": "python3"
  },
  "language_info": {
   "codemirror_mode": {
    "name": "ipython",
    "version": 3
   },
   "file_extension": ".py",
   "mimetype": "text/x-python",
   "name": "python",
   "nbconvert_exporter": "python",
   "pygments_lexer": "ipython3",
   "version": "3.10.12"
  }
 },
 "nbformat": 4,
 "nbformat_minor": 5
}
